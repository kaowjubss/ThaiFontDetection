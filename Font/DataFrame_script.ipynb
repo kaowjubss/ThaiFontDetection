{
 "cells": [
  {
   "cell_type": "code",
   "execution_count": 1,
   "metadata": {},
   "outputs": [
    {
     "name": "stdout",
     "output_type": "stream",
     "text": [
      "uni0E01\n",
      "uni0E02\n",
      "uni0E03\n",
      "uni0E04\n",
      "uni0E05\n",
      "uni0E06\n",
      "uni0E07\n",
      "uni0E08\n",
      "uni0E09\n",
      "uni0E0A\n",
      "uni0E0B\n",
      "uni0E0C\n",
      "uni0E0D\n",
      "uni0E0E\n",
      "uni0E0F\n",
      "uni0E10\n",
      "uni0E11\n",
      "uni0E12\n",
      "uni0E13\n",
      "uni0E14\n",
      "uni0E15\n",
      "uni0E16\n",
      "uni0E17\n",
      "uni0E18\n",
      "uni0E19\n",
      "uni0E1A\n",
      "uni0E1B\n",
      "uni0E1C\n",
      "uni0E1D\n",
      "uni0E1E\n",
      "uni0E1F\n",
      "uni0E20\n",
      "uni0E21\n",
      "uni0E22\n",
      "uni0E23\n",
      "uni0E24\n",
      "uni0E25\n",
      "uni0E26\n",
      "uni0E27\n",
      "uni0E28\n"
     ]
    },
    {
     "ename": "OSError",
     "evalue": "[Errno 28] No space left on device",
     "output_type": "error",
     "traceback": [
      "\u001b[1;31m---------------------------------------------------------------------------\u001b[0m",
      "\u001b[1;31mOSError\u001b[0m                                   Traceback (most recent call last)",
      "\u001b[1;32md:\\University_Work\\y2\\sem2\\AI\\code\\Project\\Font\\DataFrame_script.ipynb Cell 1\u001b[0m in \u001b[0;36m<cell line: 8>\u001b[1;34m()\u001b[0m\n\u001b[0;32m     <a href='vscode-notebook-cell:/d%3A/University_Work/y2/sem2/AI/code/Project/Font/DataFrame_script.ipynb#W0sZmlsZQ%3D%3D?line=18'>19</a>\u001b[0m         \u001b[39mprint\u001b[39m(\u001b[39m\"\u001b[39m\u001b[39mNo.pngfilefound\u001b[39m\u001b[39m\"\u001b[39m)\n\u001b[0;32m     <a href='vscode-notebook-cell:/d%3A/University_Work/y2/sem2/AI/code/Project/Font/DataFrame_script.ipynb#W0sZmlsZQ%3D%3D?line=19'>20</a>\u001b[0m df\u001b[39m=\u001b[39mpd\u001b[39m.\u001b[39mDataFrame(data,columns\u001b[39m=\u001b[39m[\u001b[39m'\u001b[39m\u001b[39mimage\u001b[39m\u001b[39m'\u001b[39m,\u001b[39m'\u001b[39m\u001b[39mfontname\u001b[39m\u001b[39m'\u001b[39m])\n\u001b[1;32m---> <a href='vscode-notebook-cell:/d%3A/University_Work/y2/sem2/AI/code/Project/Font/DataFrame_script.ipynb#W0sZmlsZQ%3D%3D?line=20'>21</a>\u001b[0m df\u001b[39m.\u001b[39;49mto_pickle(\u001b[39m\"\u001b[39;49m\u001b[39mD:/University_Work/y2/sem2/AI/code/Project/Font/DataFrame/\u001b[39;49m\u001b[39m\"\u001b[39;49m \u001b[39m+\u001b[39;49m folder \u001b[39m+\u001b[39;49m \u001b[39m\"\u001b[39;49m\u001b[39m.pkl\u001b[39;49m\u001b[39m\"\u001b[39;49m)\n",
      "File \u001b[1;32m~\\AppData\\Roaming\\Python\\Python310\\site-packages\\pandas\\core\\generic.py:3064\u001b[0m, in \u001b[0;36mNDFrame.to_pickle\u001b[1;34m(self, path, compression, protocol, storage_options)\u001b[0m\n\u001b[0;32m   3012\u001b[0m \u001b[39m\"\"\"\u001b[39;00m\n\u001b[0;32m   3013\u001b[0m \u001b[39mPickle (serialize) object to file.\u001b[39;00m\n\u001b[0;32m   3014\u001b[0m \n\u001b[1;32m   (...)\u001b[0m\n\u001b[0;32m   3060\u001b[0m \u001b[39m4    4    9\u001b[39;00m\n\u001b[0;32m   3061\u001b[0m \u001b[39m\"\"\"\u001b[39;00m  \u001b[39m# noqa: E501\u001b[39;00m\n\u001b[0;32m   3062\u001b[0m \u001b[39mfrom\u001b[39;00m \u001b[39mpandas\u001b[39;00m\u001b[39m.\u001b[39;00m\u001b[39mio\u001b[39;00m\u001b[39m.\u001b[39;00m\u001b[39mpickle\u001b[39;00m \u001b[39mimport\u001b[39;00m to_pickle\n\u001b[1;32m-> 3064\u001b[0m to_pickle(\n\u001b[0;32m   3065\u001b[0m     \u001b[39mself\u001b[39;49m,\n\u001b[0;32m   3066\u001b[0m     path,\n\u001b[0;32m   3067\u001b[0m     compression\u001b[39m=\u001b[39;49mcompression,\n\u001b[0;32m   3068\u001b[0m     protocol\u001b[39m=\u001b[39;49mprotocol,\n\u001b[0;32m   3069\u001b[0m     storage_options\u001b[39m=\u001b[39;49mstorage_options,\n\u001b[0;32m   3070\u001b[0m )\n",
      "File \u001b[1;32m~\\AppData\\Roaming\\Python\\Python310\\site-packages\\pandas\\io\\pickle.py:112\u001b[0m, in \u001b[0;36mto_pickle\u001b[1;34m(obj, filepath_or_buffer, compression, protocol, storage_options)\u001b[0m\n\u001b[0;32m    109\u001b[0m     handles\u001b[39m.\u001b[39mhandle\u001b[39m.\u001b[39mwrite(pickle\u001b[39m.\u001b[39mdumps(obj, protocol\u001b[39m=\u001b[39mprotocol))\n\u001b[0;32m    110\u001b[0m \u001b[39melse\u001b[39;00m:\n\u001b[0;32m    111\u001b[0m     \u001b[39m# letting pickle write directly to the buffer is more memory-efficient\u001b[39;00m\n\u001b[1;32m--> 112\u001b[0m     pickle\u001b[39m.\u001b[39;49mdump(obj, handles\u001b[39m.\u001b[39;49mhandle, protocol\u001b[39m=\u001b[39;49mprotocol)\n",
      "\u001b[1;31mOSError\u001b[0m: [Errno 28] No space left on device"
     ]
    }
   ],
   "source": [
    "import os\n",
    "import cv2\n",
    "import pandas as pd\n",
    "\n",
    "augmentation_path=\"D:/University_Work/y2/sem2/AI/code/Project/Font/augmentation\"\n",
    "\n",
    "\n",
    "for count,folder in enumerate(os.listdir(augmentation_path)):\n",
    "    if count <13:\n",
    "        continue\n",
    "    print(folder)\n",
    "    data=[]\n",
    "    for file in os.listdir(augmentation_path+\"/\"+folder):\n",
    "        # print(file)\n",
    "        if file.endswith(\".png\"):\n",
    "            img=cv2.imread(augmentation_path+\"/\"+folder+\"/\"+file)\n",
    "            img=cv2.cvtColor(img,cv2.COLOR_BGR2GRAY)\n",
    "            if img.shape != (100,100):\n",
    "                img=cv2.resize(img,(100,100))\n",
    "            data.append([img,file[:-4].split(\"_\")[0]])\n",
    "        else:\n",
    "            print(\"No.pngfilefound\")\n",
    "    df=pd.DataFrame(data,columns=['image','fontname'])\n",
    "    df.to_pickle(\"D:/University_Work/y2/sem2/AI/code/Project/Font/DataFrame/\" + folder + \".pkl\")\n",
    "\n"
   ]
  },
  {
   "cell_type": "code",
   "execution_count": 9,
   "metadata": {},
   "outputs": [
    {
     "data": {
      "text/plain": [
       "<bound method NDFrame.head of                                                    image      fontname\n",
       "0      [[0, 0, 0, 0, 0, 0, 0, 0, 0, 0, 0, 0, 0, 0, 0,...    AngsanaNew\n",
       "1      [[0, 0, 0, 0, 0, 0, 0, 0, 0, 0, 0, 0, 0, 0, 0,...    AngsanaNew\n",
       "2      [[0, 0, 0, 0, 0, 0, 0, 0, 0, 0, 0, 0, 0, 0, 0,...    AngsanaNew\n",
       "3      [[0, 0, 0, 0, 0, 0, 0, 0, 0, 0, 0, 0, 0, 0, 0,...    AngsanaNew\n",
       "4      [[0, 0, 0, 0, 0, 0, 0, 0, 0, 0, 0, 0, 0, 0, 0,...    AngsanaNew\n",
       "...                                                  ...           ...\n",
       "25587  [[0, 0, 0, 0, 0, 0, 0, 0, 0, 0, 0, 0, 0, 0, 0,...  THSarabunNew\n",
       "25588  [[0, 0, 0, 0, 0, 0, 0, 0, 0, 0, 0, 0, 0, 0, 0,...  THSarabunNew\n",
       "25589  [[0, 0, 0, 0, 0, 0, 0, 0, 0, 0, 0, 0, 0, 0, 0,...  THSarabunNew\n",
       "25590  [[0, 0, 0, 0, 0, 0, 0, 0, 0, 0, 0, 0, 0, 0, 0,...  THSarabunNew\n",
       "25591  [[0, 0, 0, 0, 0, 0, 0, 0, 0, 0, 0, 0, 0, 0, 0,...  THSarabunNew\n",
       "\n",
       "[25592 rows x 2 columns]>"
      ]
     },
     "execution_count": 9,
     "metadata": {},
     "output_type": "execute_result"
    }
   ],
   "source": [
    "df.head"
   ]
  },
  {
   "cell_type": "code",
   "execution_count": 6,
   "metadata": {},
   "outputs": [
    {
     "data": {
      "text/plain": [
       "array(['AngsanaNew', 'Chonburi', 'iannnnn-DUCK', 'MN KHAIPHALO',\n",
       "       'pluempluem', 'pphometowntest', 'THBaijam', 'THCharmofAU',\n",
       "       'THFahkwang', 'THKodchasal', 'THKoHo', 'THKrub', 'THMaliGrade6',\n",
       "       'THSarabunNew'], dtype=object)"
      ]
     },
     "execution_count": 6,
     "metadata": {},
     "output_type": "execute_result"
    }
   ],
   "source": [
    "df[\"fontname\"].unique()"
   ]
  },
  {
   "cell_type": "code",
   "execution_count": 10,
   "metadata": {},
   "outputs": [],
   "source": [
    "df.to_pickle(\"D:/University_Work/y2/sem2/AI/code/Project/Font/uni0E1A.pkl\")"
   ]
  },
  {
   "cell_type": "markdown",
   "metadata": {},
   "source": [
    "# note"
   ]
  },
  {
   "cell_type": "code",
   "execution_count": null,
   "metadata": {},
   "outputs": [],
   "source": [
    "{\"uni0E01\":\"ก\",\n",
    "\"uni0E02\":\"ข\",\n",
    "\"uni0E03\":\"ฃ\",\n",
    "\"uni0E04\":\"ค\",\n",
    "\"uni0E05\":\"ฅ\",\n",
    "\"uni0E06\":\"ฆ\",\n",
    "\"uni0E07\":\"ง\",\n",
    "\"uni0E08\":\"จ\",\n",
    "\"uni0E09\":\"ฉ\",\n",
    "\"uni0E0A\":\"ช\",\n",
    "\"uni0E0B\":\"ซ\",\n",
    "\"uni0E0C\":\"ฌ\",\n",
    "\"uni0E0D\":\"ญ\",\n",
    "\"uni0E0E\":\"ฎ\",\n",
    "\"uni0E0F\":\"ฏ\",\n",
    "\"uni0E10\":\"ฐ\",\n",
    "\"uni0E11\":\"ฑ\",\n",
    "\"uni0E12\":\"ฒ\",\n",
    "\"uni0E13\":\"ณ\",\n",
    "\"uni0E14\":\"ด\",\n",
    "\"uni0E15\":\"ต\",\n",
    "\"uni0E16\":\"ถ\",\n",
    "\"uni0E17\":\"ท\",\n",
    "\"uni0E18\":\"ธ\",\n",
    "\"uni0E19\":\"น\",\n",
    "\"uni0E1A\":\"บ\",\n",
    "\"uni0E1B\":\"ป\",\n",
    "\"uni0E1C\":\"ผ\",\n",
    "\"uni0E1D\":\"ฝ\",\n",
    "\"uni0E1E\":\"พ\",\n",
    "\"uni0E1F\":\"ฟ\",\n",
    "\"uni0E20\":\"ภ\",\n",
    "\"uni0E21\":\"ม\",\n",
    "\"uni0E22\":\"ย\",\n",
    "\"uni0E23\":\"ร\",\n",
    "\"uni0E24\":\"ฤ\",\n",
    "\"uni0E25\":\"ล\",\n",
    "\"uni0E26\":\"ฦ\",\n",
    "\"uni0E27\":\"ว\",\n",
    "\"uni0E28\":\"ศ\",\n",
    "\"uni0E29\":\"ษ\",\n",
    "\"uni0E2A\":\"ส\",\n",
    "\"uni0E2B\":\"ห\",\n",
    "\"uni0E2C\":\"ฬ\",\n",
    "\"uni0E2D\":\"อ\",\n",
    "\"uni0E2E\":\"ฮ\",\n",
    "\"uni0E2F\":\"ฯ\",\n",
    "\"uni0E30\":\"ะ\",\n",
    "\"uni0E31\":\"ั\",\n",
    "\"uni0E32\":\"า\",\n",
    "\"uni0E33\":\"ำ\",\n",
    "\"uni0E34\":\"ิ\",\n",
    "\"uni0E35\":\"ี\",\n",
    "\"uni0E36\":\"ึ\",\n",
    "\"uni0E37\":\"ื\",\n",
    "\"uni0E38\":\"ุ\",\n",
    "\"uni0E39\":\"ู\",\n",
    "\"uni0E3A\":\"ฺ\",\n",
    "\"uni0E3F\":\"฿\",\n",
    "\"uni0E40\":\"เ\",\n",
    "\"uni0E41\":\"แ\",\n",
    "\"uni0E42\":\"โ\",\n",
    "\"uni0E43\":\"ใ\",\n",
    "\"uni0E44\":\"ไ\",\n",
    "\"uni0E45\":\"ๅ\",\n",
    "\"uni0E46\":\"ๆ\",\n",
    "\"uni0E47\":\"็\",\n",
    "\"uni0E48\":\"่\",\n",
    "\"uni0E49\":\"้\",\n",
    "\"uni0E4A\":\"๊\",\n",
    "\"uni0E4B\":\"๋\",\n",
    "\"uni0E4C\":\"์\",\n",
    "\"uni0E4D\":\"ํ\",\n",
    "\"uni0E4E\":\"๎\",\n",
    "\"uni0E4F\":\"๏\"}"
   ]
  }
 ],
 "metadata": {
  "kernelspec": {
   "display_name": "Python 3.10.4 64-bit",
   "language": "python",
   "name": "python3"
  },
  "language_info": {
   "codemirror_mode": {
    "name": "ipython",
    "version": 3
   },
   "file_extension": ".py",
   "mimetype": "text/x-python",
   "name": "python",
   "nbconvert_exporter": "python",
   "pygments_lexer": "ipython3",
   "version": "3.10.4"
  },
  "orig_nbformat": 4,
  "vscode": {
   "interpreter": {
    "hash": "26de051ba29f2982a8de78e945f0abaf191376122a1563185a90213a26c5da77"
   }
  }
 },
 "nbformat": 4,
 "nbformat_minor": 2
}
